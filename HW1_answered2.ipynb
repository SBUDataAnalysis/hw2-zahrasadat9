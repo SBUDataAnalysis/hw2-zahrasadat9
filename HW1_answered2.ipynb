{
  "cells": [
    {
      "cell_type": "markdown",
      "metadata": {
        "id": "tS8Agxoj7iTG"
      },
      "source": [
        "![1d_randomwalk.png](attachment:1d_randomwalk.png)"
      ]
    },
    {
      "cell_type": "markdown",
      "metadata": {
        "id": "q6uWgNNS7iTc"
      },
      "source": [
        "# Random Walk\n"
      ]
    },
    {
      "cell_type": "markdown",
      "metadata": {
        "id": "uRoHWi-Z7iTk"
      },
      "source": [
        "As a physics student sometimes you see some random movement in nature like brownian motion(it's actually deterministic). we can use stochastic litrature to study brownian motion and find lots of valuable information about this process. Random walk is somehow one of the most instructive models that can help you understand how random process can model the nature."
      ]
    },
    {
      "cell_type": "markdown",
      "metadata": {
        "id": "OPwWFBSw7iTq"
      },
      "source": [
        "for the beging let's see what random walk is. according to Wikipedia(https://en.wikipedia.org/wiki/Random_walk) random walk is a mathematical object, known as a stochastic or random process, that describes a path that consists of a succession of random steps on some mathematical space such as the integers.\n",
        "\n",
        "An elementary example of a random walk is the random walk on the integer number line, ${\\displaystyle \\mathbb {Z} }$ , which starts at 0 and at each step moves +1 or −1 with equal probability. Other examples include the path traced by a molecule as it travels in a liquid or a gas (see Brownian motion), the search path of a foraging animal, the price of a fluctuating stock and the financial status of a gambler: all can be approximated by random walk models, even though they may not be truly random in reality."
      ]
    },
    {
      "cell_type": "markdown",
      "metadata": {
        "id": "IW-GIvY77iTu"
      },
      "source": [
        "We know that you are passionate and want to explore all details of these process(joke :) ) but for the begining let's start with the simplest model, one dimensional random walk with same probability for right and left step."
      ]
    },
    {
      "cell_type": "markdown",
      "metadata": {
        "id": "SXHDXL8H7iTw"
      },
      "source": [
        "- [x] 1. the simplest model of random walk is a One-dimensional random walk, which starts at 0 and at each step moves +1 or −1 with equal probability. consider 10000_step 1d random walk. and use $10^5$ ensemble. in each ensemble begin from the origin(0) and record the endpoint at 10000th step. plot the PDF of these endpoints. also, calculate the first four moments of this PDF."
      ]
    },
    {
      "cell_type": "code",
      "execution_count": 8,
      "metadata": {
        "id": "kxaDVEpj7iTz"
      },
      "outputs": [],
      "source": [
        "import random\n",
        "import matplotlib.pyplot as plt\n",
        "import numpy as np\n",
        "import scipy.stats #اینو تازه کشف کردم"
      ]
    },
    {
      "cell_type": "code",
      "execution_count": null,
      "metadata": {
        "id": "KdNzef_L7iT4",
        "outputId": "d4942068-b01b-46f9-e7e6-37f926cb2037"
      },
      "outputs": [
        {
          "data": {
            "image/png": "[encoded data removed]",
            "text/plain": [
              "<Figure size 432x288 with 1 Axes>"
            ]
          },
          "metadata": {
            "needs_background": "light"
          },
          "output_type": "display_data"
        }
      ],
      "source": [
        "# بازم خیلی میطوله این\n",
        "#! random.choice جایگزین شد\n",
        "end= [sum( np.random.choice( [-1,1],(10**4) ) ) for i in range(10**5) ]\n",
        "#print(end)\n",
        "plt.hist(end,density=1);"
      ]
    },
    {
      "cell_type": "code",
      "source": [
        "# اضافه شد : راه سریع تر\n",
        "def walk(size,step,p=.5):\n",
        "    end=sum(2*np.random.binomial(1,p,size=(size,step))-1 )\n",
        "    return end\n",
        "end= walk(10**5,10**4)\n",
        "plt.hist(end,density=1);"
      ],
      "metadata": {
        "colab": {
          "base_uri": "https://localhost:8080/",
          "height": 265
        },
        "id": "HnCKheCx7n6P",
        "outputId": "4de791fd-ddc5-40bd-d217-99d63d8fdfc6"
      },
      "execution_count": 13,
      "outputs": [
        {
          "output_type": "display_data",
          "data": {
            "image/png": "[encoded data removed]",
            "text/plain": [
              "<Figure size 432x288 with 1 Axes>"
            ]
          },
          "metadata": {
            "needs_background": "light"
          }
        }
      ]
    },
    {
      "cell_type": "markdown",
      "source": [
        "اینو اصلا تو صورت سوال ندیده بوم"
      ],
      "metadata": {
        "id": "Ji-GAyk-9H34"
      }
    },
    {
      "cell_type": "code",
      "source": [
        "mean= np.mean(end)\n",
        "var=np.var(end)\n",
        "mome3= scipy.stats.moment(end,moment=3)\n",
        "mome4= scipy.stats.moment(end,moment=4)\n",
        "print(mean,var,mome3,mome4)"
      ],
      "metadata": {
        "colab": {
          "base_uri": "https://localhost:8080/"
        },
        "id": "wmXfzFdR7sxl",
        "outputId": "3e9d5568-111e-493c-8dde-ab68741a6e66"
      },
      "execution_count": 11,
      "outputs": [
        {
          "output_type": "stream",
          "name": "stdout",
          "text": [
            "0.3064 99942.19491904 658560.153665286 30392609569.12843\n"
          ]
        }
      ]
    },
    {
      "cell_type": "markdown",
      "metadata": {
        "id": "z0rUUhr27iT-"
      },
      "source": [
        "- [x] now look at the plot you create. does it looklike a normal distribution? if yes isn't it strange cause we know that the probability is bionomial not guassian.\n"
      ]
    },
    {
      "cell_type": "markdown",
      "metadata": {
        "id": "W7uYX5wD7iUC"
      },
      "source": [
        "#explain here\n",
        "گاوسین همون بایونومیال هست فقط وقتی داده های زیادی داشته باشیم\n",
        "اثبات:\n",
        "   https://people.bath.ac.uk/pam28/Paul_Milewski,_Professor_of_Mathematics,_University_of_Bath/Past_Teaching_files/stirling.pdf"
      ]
    },
    {
      "cell_type": "markdown",
      "metadata": {
        "id": "bmPWjy4D7iUE"
      },
      "source": [
        "- [x] 2.change the probability of jumping to right and left in a way that $P_{left} = 2 P_{right}$ and then repeat the process of Q1 again and evaluate the PDF and first four moments and cumulants. "
      ]
    },
    {
      "cell_type": "code",
      "execution_count": null,
      "metadata": {
        "id": "oWQMZG887iUG"
      },
      "outputs": [],
      "source": [
        "# بازم خیلی میطوله این\n",
        "end= [sum( np.random.choice([-1,1],p=[.8,.2],size=10000) ) for i in range(10**5) ]\n",
        "#print(end)\n"
      ]
    },
    {
      "cell_type": "code",
      "source": [
        "# اضافه شد: سریع تر\n",
        "end= walk(10**5,10**4,1/3)\n",
        "plt.hist(end,density=1);"
      ],
      "metadata": {
        "colab": {
          "base_uri": "https://localhost:8080/",
          "height": 265
        },
        "id": "rz5oGZrR92Z6",
        "outputId": "bcaf1e92-407b-4aba-f617-898099c962d6"
      },
      "execution_count": 14,
      "outputs": [
        {
          "output_type": "display_data",
          "data": {
            "image/png": "[encoded data removed]",
            "text/plain": [
              "<Figure size 432x288 with 1 Axes>"
            ]
          },
          "metadata": {
            "needs_background": "light"
          }
        }
      ]
    },
    {
      "cell_type": "markdown",
      "source": [
        "فهميدم با \n",
        "سایپای\n",
        "هم میشه و راحت تره ولی خب"
      ],
      "metadata": {
        "id": "J4Gld3RJ9f1S"
      }
    },
    {
      "cell_type": "code",
      "execution_count": null,
      "metadata": {
        "id": "rBQKm2RS7iUK",
        "outputId": "269c89f6-6032-4a21-b460-3bea30d8ab29"
      },
      "outputs": [
        {
          "data": {
            "text/plain": [
              "[-600.02574, 1619.225864487045, -984414.8950916304, 594337510.8408663]"
            ]
          },
          "execution_count": 6,
          "metadata": {},
          "output_type": "execute_result"
        }
      ],
      "source": [
        "cum=[0]*4\n",
        "cum[0]= sum(end)/len(end)\n",
        "cum[1]= np.mean( np.power(steps,2)*prob)- np.mean(steps*prob)**2\n",
        "cum[2]= np.mean( np.power(steps,3)*prob)-3*np.mean( np.power(steps,2)*prob)*np.mean(steps*prob)+2*np.mean(steps*prob)**3\n",
        "cum[3]= np.mean( np.power(steps,4)*prob)-4*np.mean( np.power(steps,3)*prob)*np.mean(steps*prob)-3*np.mean( np.power(steps,2)*prob)**2+12*np.mean( np.power(steps,2)*prob)*np.mean(steps*prob)**2-6*np.mean(steps*prob)**4\n",
        "\n",
        "cum"
      ]
    },
    {
      "cell_type": "code",
      "execution_count": null,
      "metadata": {
        "id": "lQtPJSBp7iUM",
        "outputId": "3bc17a3c-2316-4eaf-9f70-f89df679878e"
      },
      "outputs": [
        {
          "data": {
            "text/plain": [
              "[-600.02574, 361650.1145270347, -219926946.88039234, 132581311619.57744]"
            ]
          },
          "execution_count": 9,
          "metadata": {},
          "output_type": "execute_result"
        }
      ],
      "source": [
        "mome=[0]*4\n",
        "mome[0]=cum[0]\n",
        "mome[1]= cum[0]**2+cum[1]\n",
        "mome[2]=cum[2]+3*cum[1]*cum[0]+cum[0]**3\n",
        "mome[3]=cum[3]+4*cum[2]*cum[0]+3*cum[1]**2+6*cum[1]*cum[0]+cum[0]**4\n",
        "mome"
      ]
    },
    {
      "cell_type": "markdown",
      "metadata": {
        "id": "A7P6kCP27iUO"
      },
      "source": [
        "- [ ] according to your result, can you tell how the shape of PDF function related to its cumulants?"
      ]
    },
    {
      "cell_type": "code",
      "execution_count": null,
      "metadata": {
        "id": "8KqsKM_-7iUQ"
      },
      "outputs": [],
      "source": [
        "#explain here \n",
        "در مقایسه با نمودار قبلی\n",
        "از نظر میانگین که به خاطر احتمال بیشتر چپ، به سمت منفی رفته \n",
        "از نظر واریانس قسمت چپ و راست با هم متفاوتن و دیگه مثل شکل قبل تاحد زیادی متقارن نیست که به خاطر تفاوت احتمال ها قابل انتظار بود\n",
        "مقدار کامیولنت سوم هم به نظر تغییر خاصی نداشته چرا که تابع کشیده تر در نقاط انتهایی نشده\n",
        " (چی بنویسم دقیقا؟)"
      ]
    },
    {
      "cell_type": "markdown",
      "metadata": {
        "id": "1MqayTCA7iUR"
      },
      "source": [
        "# Conditional Probability\n"
      ]
    },
    {
      "cell_type": "markdown",
      "metadata": {
        "id": "ER_LEFZI7iUS"
      },
      "source": [
        "![.jpg](attachment:.jpg)"
      ]
    },
    {
      "cell_type": "markdown",
      "metadata": {
        "id": "VP4Aycs37iUU"
      },
      "source": [
        "Suppose you're on a game show, and you're given the choice of three doors: Behind one door is a car; behind the others, goats. You pick a door, say No. 1, and the host, who knows what's behind the doors, opens another door, say No. 3, which has a goat. He then says to you, \"Do you want to pick door No. 2?\" Is it to your advantage to switch your choice? if Yes write a it's code to tell Us why and if your answer is No code it to prove the first group they are wrong:)"
      ]
    },
    {
      "cell_type": "markdown",
      "metadata": {
        "id": "NsB3RQk_7iUV"
      },
      "source": [
        ""
      ]
    },
    {
      "cell_type": "code",
      "execution_count": 35,
      "metadata": {
        "colab": {
          "base_uri": "https://localhost:8080/",
          "height": 301
        },
        "id": "bBQEmwaS7iUW",
        "outputId": "9e6ade7e-472c-41d9-a844-98123c090881"
      },
      "outputs": [
        {
          "output_type": "stream",
          "name": "stdout",
          "text": [
            "The time of execution of above program is : 0.04050731658935547\n",
            "change: 3384 remain: 1625\n"
          ]
        },
        {
          "output_type": "display_data",
          "data": {
            "image/png": "[encoded data removed]",
            "text/plain": [
              "<Figure size 432x288 with 1 Axes>"
            ]
          },
          "metadata": {
            "needs_background": "light"
          }
        }
      ],
      "source": [
        "#code here حل عددی\n",
        "import time\n",
        "import random\n",
        "import matplotlib.pyplot as plt\n",
        "\n",
        "change=[]\n",
        "remain=[]\n",
        "\n",
        "start = time.time()\n",
        "\n",
        "for i in range(10000):\n",
        "    a=[1,2,3]\n",
        "    #print(a)\n",
        "    c= random.choice(a)\n",
        "    #print('car:',c)\n",
        "    m= random.choice(a)\n",
        "    #print('m:',m)\n",
        "    a.remove(m)\n",
        "    if c==m:\n",
        "        d=random.choice(a)\n",
        "        a.remove(d)\n",
        "        #print('c==m')\n",
        "    elif c==a[0]:\n",
        "        #d= a[1]\n",
        "        a=a[0]\n",
        "    else:\n",
        "        #d= a[0]\n",
        "        a=a[1]\n",
        "    choice= random.choice([a,m])\n",
        "    #print('choice:',choice,'d:',d)\n",
        "\n",
        "    \n",
        "    if choice==a:\n",
        "        #print('----->Change')\n",
        "        if a==c:\n",
        "            change.append(1)\n",
        "        else:\n",
        "            change.append(0)\n",
        "    \n",
        "    if choice==m:\n",
        "        #print('--->remain')\n",
        "        if m==c:\n",
        "            remain.append(1)\n",
        "        else:\n",
        "            remain.append(0)\n",
        "            \n",
        "end = time.time()\n",
        "print(\"The time of execution of above program is :\", end-start)\n",
        "#print('change:',change,'remain:',remain)\n",
        "print ('change:',change.count(1),'remain:',remain.count(1))\n",
        "\n",
        "\n",
        "\n",
        "plt.hist(change,density=True,label='change');\n",
        "plt.hist(remain,density=True, label='remain');\n",
        "plt.legend(['change','remain'])\n",
        "plt.show()\n"
      ]
    },
    {
      "cell_type": "code",
      "execution_count": 36,
      "metadata": {
        "colab": {
          "base_uri": "https://localhost:8080/",
          "height": 284
        },
        "id": "GxJOxxP57iUZ",
        "outputId": "971f1e5b-d373-41fd-ce1d-3041012d2ff8"
      },
      "outputs": [
        {
          "output_type": "stream",
          "name": "stdout",
          "text": [
            "The time of execution of above program is : 0.009087562561035156\n"
          ]
        },
        {
          "output_type": "display_data",
          "data": {
            "image/png": "[encoded data removed]",
            "text/plain": [
              "<Figure size 432x288 with 1 Axes>"
            ]
          },
          "metadata": {
            "needs_background": "light"
          }
        }
      ],
      "source": [
        "#another way but a lil faster \n",
        "import random\n",
        "change=[]\n",
        "remain=[]\n",
        "car='1'\n",
        "goat='0'\n",
        "reward=[car,goat,goat]\n",
        "\n",
        "start = time.time()\n",
        "\n",
        "for i in range(1000):\n",
        "    switch=random.randint(0,1)\n",
        "    a=[1,2,3]\n",
        "    random.shuffle(reward)\n",
        "    m= random.choice(a)\n",
        "    a=dict(zip(a,reward))\n",
        "    m=a[m]\n",
        "    #print('m:',m)\n",
        "    #print(a)\n",
        "    #print('m:',m)\n",
        "    d= [x for x in a if x!=m and a[x]!=car ]\n",
        "    d=random.choice(d)\n",
        "    #print(d)\n",
        "    a= [ a[x] for x in a if x!=m and x!=d ]\n",
        "    #print('a:',a)\n",
        "    change.append(a[0]) if switch else remain.append(m)\n",
        "    #print(change,remain)\n",
        "    \n",
        "end = time.time()\n",
        "print(\"The time of execution of above program is :\", end-start)\n",
        "\n",
        "plt.hist(change,density=True,label='change');\n",
        "plt.hist(remain,density=True, label='remain');\n",
        "plt.legend(['change','remain'])\n",
        "plt.show()\n",
        "    \n",
        "    "
      ]
    },
    {
      "cell_type": "code",
      "source": [
        ""
      ],
      "metadata": {
        "id": "uOByWeMIEkwt"
      },
      "execution_count": null,
      "outputs": []
    },
    {
      "cell_type": "markdown",
      "metadata": {
        "id": "DL6OcZ347iUb"
      },
      "source": [
        "# Centeral limit theorem"
      ]
    },
    {
      "cell_type": "markdown",
      "metadata": {
        "id": "-r9mPpUS7iUc"
      },
      "source": [
        "Choose a non-Gaussian distribution (uniform/bionomial/poission) and generate $10^5$ random variables for each of them.                                                      \n",
        "                                                                                                          \n"
      ]
    },
    {
      "cell_type": "markdown",
      "metadata": {
        "id": "FPU8vrbg7iUd"
      },
      "source": [
        "- [x] a) plot the PDF of samples you created .     "
      ]
    },
    {
      "cell_type": "code",
      "execution_count": null,
      "metadata": {
        "id": "1mfxYkEG7iUd",
        "outputId": "46419370-0ae2-4aaf-f44b-fab2ee2cc68a"
      },
      "outputs": [
        {
          "data": {
            "image/png": "[encoded data removed]",
            "text/plain": [
              "<Figure size 432x288 with 1 Axes>"
            ]
          },
          "metadata": {
            "needs_background": "light"
          },
          "output_type": "display_data"
        },
        {
          "data": {
            "image/png": "[encoded data removed]",
            "text/plain": [
              "<Figure size 432x288 with 1 Axes>"
            ]
          },
          "metadata": {
            "needs_background": "light"
          },
          "output_type": "display_data"
        }
      ],
      "source": [
        "n=10**5\n",
        "a=np.random.binomial(n,p=.5,size=(n))\n",
        "\n",
        "plt.hist ( a , label='binomial',density=1);\n",
        "plt.legend()\n",
        "plt.show()\n",
        "\n",
        "b= np.random.poisson(lam=.5*n,size=n)\n",
        "plt.hist ( b , label='poisson',color='g',density=1);\n",
        "plt.legend()\n",
        "plt.show()\n"
      ]
    },
    {
      "cell_type": "markdown",
      "metadata": {
        "id": "iZ7a0thL7iUe"
      },
      "source": [
        "- [x] b) create $10^4$ random subset of length {2 , 5 , 10 , 20 , 100} from the first non-Gaussian distribution and caclculate mean of each subset, then plot the PDF of these means.           "
      ]
    },
    {
      "cell_type": "code",
      "execution_count": 18,
      "metadata": {
        "colab": {
          "base_uri": "https://localhost:8080/",
          "height": 513
        },
        "id": "90O4W-Cl7iUf",
        "outputId": "d9281331-6800-4aef-e395-498b385161eb"
      },
      "outputs": [
        {
          "output_type": "display_data",
          "data": {
            "image/png": "[encoded data removed]",
            "text/plain": [
              "<Figure size 432x288 with 1 Axes>"
            ]
          },
          "metadata": {
            "needs_background": "light"
          }
        },
        {
          "output_type": "display_data",
          "data": {
            "image/png": "[encoded data removed]",
            "text/plain": [
              "<Figure size 432x288 with 1 Axes>"
            ]
          },
          "metadata": {
            "needs_background": "light"
          }
        }
      ],
      "source": [
        "# کد رو باز نوشتم که معلوم شه :)\n",
        "m=10**4\n",
        "n=10**5\n",
        "a=np.random.binomial(n,p=.5,size=(n))\n",
        "y1= [  np.mean( np.random.choice(a,size=(2)) ) for i in range(m) ]\n",
        "y2= [  np.mean( np.random.choice(a,size=(5)) ) for i in range(m) ]\n",
        "y3= [  np.mean( np.random.choice(a,size=(10)) ) for i in range(m) ]\n",
        "y4= [  np.mean( np.random.choice(a,size=(20)) ) for i in range(m) ]\n",
        "y5= [  np.mean( np.random.choice(a,size=(100)) ) for i in range(m) ]\n",
        "plt.hist(y1,label='2',bins=8,density=1);\n",
        "plt.hist(y2,label='5',bins=8,density=1);\n",
        "plt.hist(y3,label='10',bins=8,density=1);\n",
        "plt.hist(y4,label='20',bins=8,density=1);\n",
        "plt.hist(y5,label='100',bins=8,density=1);\n",
        "plt.legend()\n",
        "plt.show()\n",
        "\n",
        "#مثل اینکه منظور سوال این بوده و من بد متوجه شدم؟\n",
        "plt.hist([y1,y2,y3,y4,y5],density=1);"
      ]
    },
    {
      "cell_type": "markdown",
      "metadata": {
        "id": "uB-ptLa87iUh"
      },
      "source": [
        "- [ ] c) what do you understand form comparing the original distribution with those five?"
      ]
    },
    {
      "cell_type": "markdown",
      "metadata": {
        "id": "3j1P6Niv7iUi"
      },
      "source": [
        "همه گاوسی مانند هستند و میانگینشان یکسان شده ( با اینکه رندوم بوده و من انتظارش را نداشتم)\n",
        "با انتخاب تعداد بیشتر از سمپل، واریانس نمودار کمتر میشود که درست است\n",
        "احتمال میانگین خود نمودار اصلی از همه بیشتر است که درست است\n",
        "نمودار 100تایی تقریبا به درستی واریانس را تخمین میزند\n",
        "\n",
        "(چی بنویسم؟)"
      ]
    },
    {
      "cell_type": "markdown",
      "metadata": {
        "id": "6sqj7fPL7iUj"
      },
      "source": [
        "# Poission Approximation"
      ]
    },
    {
      "cell_type": "markdown",
      "metadata": {
        "id": "glMvsvEm7iUj"
      },
      "source": [
        "- [x] Use python libraries to generate bionomial and poission distributions for different N’s (remember $\\lambda =NP$). Over plot them for N = {5, 10, 20, 50, 100, 200, 1000}\n",
        "How does it behave as N increases? \n",
        "\n",
        "همانطور که در شکل خواهیم دید، به هم شبیه تر میشوند\n"
      ]
    },
    {
      "cell_type": "code",
      "execution_count": null,
      "metadata": {
        "scrolled": false,
        "id": "NT-gb1f47iUk",
        "outputId": "264ce5eb-bc1e-4f9a-fc84-72cb25f99902"
      },
      "outputs": [
        {
          "data": {
            "image/png": "[encoded data removed]",
            "text/plain": [
              "<Figure size 1080x1080 with 14 Axes>"
            ]
          },
          "metadata": {
            "needs_background": "light"
          },
          "output_type": "display_data"
        }
      ],
      "source": [
        "#code here\n",
        "import math\n",
        "import numpy as np\n",
        "import random\n",
        "import matplotlib.pyplot as plt\n",
        "\n",
        "f, axs = plt.subplots(7,2,figsize=(15,15))\n",
        "P=.3\n",
        "N=[5, 10, 20, 50, 100, 200, 1000]\n",
        "#bionomial\n",
        "\n",
        "axs[0,0].set_title('binomial')\n",
        "axs[0,1].set_title('possion')\n",
        "\n",
        "for i in range(0,len(N)):\n",
        "    x = np.random.binomial(n=360, p=P, size=N[i])\n",
        "    axs[i,0].hist(x,bins=40)\n",
        "    #plt.title(\"bionomia %s\"% N[i])\n",
        "    #plt.show()\n",
        "\n",
        "#poission\n",
        "for i in range(0,len(N)):\n",
        "    y = np.random.poisson(lam=P*N[i], size=N[i])\n",
        "    axs[i,1].hist(y,bins=40,color='g')\n",
        "  \n"
      ]
    },
    {
      "cell_type": "markdown",
      "metadata": {
        "id": "Cl6LhGgw7iUm"
      },
      "source": [
        "# Box Muller Method"
      ]
    },
    {
      "cell_type": "markdown",
      "metadata": {
        "id": "2KmtQI6s7iUn"
      },
      "source": [
        "1- generate Normal distribution from uniform distribution (Box-Muller algorithm(https://en.wikipedia.org/wiki/Box%E2%80%93Muller_transform)- do not need to derive and prove it. the topic will be included in lectures in the following week). Normal= zero mean, unit variance    \n",
        "- [x] a)Sample many points from this distribution. plot the pdf of the sample (plot hist).             \n",
        "                              \n"
      ]
    },
    {
      "cell_type": "code",
      "execution_count": 29,
      "metadata": {
        "colab": {
          "base_uri": "https://localhost:8080/",
          "height": 513
        },
        "id": "L54UeV9Y7iUo",
        "outputId": "10d7893a-b99c-4415-ae98-b64f2711a2c5"
      },
      "outputs": [
        {
          "output_type": "display_data",
          "data": {
            "image/png": "[encoded data removed]",
            "text/plain": [
              "<Figure size 432x288 with 1 Axes>"
            ]
          },
          "metadata": {
            "needs_background": "light"
          }
        },
        {
          "output_type": "display_data",
          "data": {
            "image/png": "[encoded data removed]",
            "text/plain": [
              "<Figure size 432x288 with 1 Axes>"
            ]
          },
          "metadata": {
            "needs_background": "light"
          }
        }
      ],
      "source": [
        "#code here\n",
        "a= np.random.uniform(0,1,1000)\n",
        "b= np.random.uniform(0,1,1000)\n",
        "plt.hist(a,density=1);\n",
        "plt.hist(b,density=1);\n",
        "plt.show()\n",
        "\n",
        "\n",
        "z1= np.sqrt(-2*np.log(a))*np.cos(2*np.pi*b)\n",
        "z1prob=np.array( plt.hist(z1,density=1)[0] )\n",
        "#print(z1prob)\n",
        "z2= np.sqrt(-2*np.log(b))*np.sin(2*np.pi*a)\n",
        "plt.hist(z2,density=1);"
      ]
    },
    {
      "cell_type": "markdown",
      "metadata": {
        "id": "hA4XwlLf7iUp"
      },
      "source": [
        "- [x] b)Calculate mean of the sample. Its variance."
      ]
    },
    {
      "cell_type": "code",
      "execution_count": 30,
      "metadata": {
        "colab": {
          "base_uri": "https://localhost:8080/"
        },
        "id": "hGXvrWRZ7iUq",
        "outputId": "834cd845-f1a6-4fe8-f1cc-ab682c20c993"
      },
      "outputs": [
        {
          "output_type": "stream",
          "name": "stdout",
          "text": [
            "-0.04288964519063727 -0.04288964519063727\n",
            "1.0250442466979712 1.0250442466979712\n",
            "1.0124446882165816 1.0124446882165816\n"
          ]
        }
      ],
      "source": [
        "#code here\n",
        "\n",
        "meannz1= np.sum(z1)/len(z1)\n",
        "varrz1= np.sum( (z1-meannz1)**2 )/ len(z1)\n",
        "stddz1=np.sqrt(varrz1)\n",
        "\n",
        "meanz1= np.mean(z1)\n",
        "varz1= np.var(z1)\n",
        "stdz1=np.std(z1)\n",
        "print(meannz1,meanz1)\n",
        "print(varrz1,varz1)\n",
        "print(stddz1,stdz1)"
      ]
    },
    {
      "cell_type": "markdown",
      "metadata": {
        "id": "P19T-zjz7iUr"
      },
      "source": [
        "- [x] c)Overplot the pdf now, using this mean and variance (on the plot hist). Also use the mean and std deviation functions from python library. Do they agree? بله"
      ]
    },
    {
      "cell_type": "code",
      "execution_count": null,
      "metadata": {
        "id": "DgcoZm2A7iUs",
        "outputId": "adbecf07-c3b9-4ddd-b5e9-7b4a91744b6a"
      },
      "outputs": [
        {
          "data": {
            "text/plain": [
              "[<matplotlib.lines.Line2D at 0x2027f126470>]"
            ]
          },
          "execution_count": 83,
          "metadata": {},
          "output_type": "execute_result"
        },
        {
          "data": {
            "image/png": "[encoded data removed]",
            "text/plain": [
              "<Figure size 432x288 with 1 Axes>"
            ]
          },
          "metadata": {
            "needs_background": "light"
          },
          "output_type": "display_data"
        }
      ],
      "source": [
        "#code here\n",
        "\n",
        "\n",
        "plt.hist(z1,density=1)\n",
        "gaus= np.exp(-.5*np.power( (z1 - meannz1)/stddz1, 2) )/ (np.sqrt(2*np.pi) *stddz1)\n",
        "plt.plot(z1,gaus,'.')"
      ]
    },
    {
      "cell_type": "markdown",
      "metadata": {
        "id": "6MC6fdvx7iUt"
      },
      "source": [
        "- [ ] d)Now that you have your Normal distribution, how can you turn it into a Gaussian distribution with  given mean and variance? For example mean=2, and std dev=4 ?   "
      ]
    },
    {
      "cell_type": "code",
      "execution_count": null,
      "metadata": {
        "id": "alNRtBvM7iUu",
        "outputId": "b17355bd-11b3-4168-fd4f-082060044e7d"
      },
      "outputs": [
        {
          "data": {
            "text/plain": [
              "[<matplotlib.lines.Line2D at 0x1ef2c294c50>]"
            ]
          },
          "execution_count": 20,
          "metadata": {},
          "output_type": "execute_result"
        },
        {
          "data": {
            "image/png": "[encoded data removed]",
            "text/plain": [
              "<Figure size 432x288 with 1 Axes>"
            ]
          },
          "metadata": {
            "needs_background": "light"
          },
          "output_type": "display_data"
        }
      ],
      "source": [
        "#code here\n",
        "#مثل اینکه منظور این نبوده\n",
        "a= np.random.uniform(0,1,1000)\n",
        "b= np.random.uniform(0,1,1000)\n",
        "z1= np.sqrt(-2*np.log(a))*np.cos(2*np.pi*b)\n",
        "\n",
        "meannz1=2\n",
        "stddz1=4\n",
        "gaus= np.exp(-.5*np.power( (z1 - meannz1)/stddz1, 2) )/ (np.sqrt(2*np.pi) *stddz1)\n",
        "plt.plot(z1,gaus,'.')"
      ]
    },
    {
      "cell_type": "markdown",
      "source": [
        "from wiki: z*std+mean=x"
      ],
      "metadata": {
        "id": "PWEUHwJgDwbw"
      }
    },
    {
      "cell_type": "code",
      "source": [
        "#میخواستید که یک سری داده درست کنیم که میانگینش ۲ و واریانسش ۴ باشد!\n",
        "meannz1=2\n",
        "stddz1=4\n",
        "\n",
        "a= np.random.uniform(0,1,1000)\n",
        "b= np.random.uniform(0,1,1000)\n",
        "\n",
        "z1= np.sqrt(-2*np.log(a))*np.cos(2*np.pi*b)*stddz1+meannz1\n",
        "\n",
        "\n",
        "gaus= np.exp(-.5*np.power( (z1 - meannz1)/stddz1, 2) )/ (np.sqrt(2*np.pi) *stddz1)\n",
        "plt.plot(z1,gaus,'.')\n",
        "print( np.mean(z1),np.var(z1) )"
      ],
      "metadata": {
        "colab": {
          "base_uri": "https://localhost:8080/",
          "height": 282
        },
        "id": "u2X9aILyA0X0",
        "outputId": "56d21fbb-aa1d-445a-b7a4-f08268a44b0b"
      },
      "execution_count": 28,
      "outputs": [
        {
          "output_type": "stream",
          "name": "stdout",
          "text": [
            "1.9767325087778844 16.014837601590234\n"
          ]
        },
        {
          "output_type": "display_data",
          "data": {
            "image/png": "[encoded data removed]",
            "text/plain": [
              "<Figure size 432x288 with 1 Axes>"
            ]
          },
          "metadata": {
            "needs_background": "light"
          }
        }
      ]
    },
    {
      "cell_type": "markdown",
      "metadata": {
        "id": "nTHPNzhg7iUv"
      },
      "source": [
        "there are two problems left, but you can choose one of them to solve.(we highly recommend you to solve both of them)"
      ]
    },
    {
      "cell_type": "markdown",
      "metadata": {
        "id": "XeXbAVaN7iUw"
      },
      "source": [
        "# Nice Matrix"
      ]
    },
    {
      "cell_type": "markdown",
      "metadata": {
        "id": "pXgrV6F67iUw"
      },
      "source": [
        "A matrix of size n$\\times$n which include numbers of {1,2,3,...,$n^2$} is called nice, if sum of all rows and columns  are the same. write a code that get n as a input and return a n$\\times$n Nice Matrix. print out the examples of Nice Matrix for n = 4,5,6"
      ]
    },
    {
      "cell_type": "code",
      "execution_count": null,
      "metadata": {
        "id": "yIvAOhz27iUx"
      },
      "outputs": [],
      "source": [
        "کدم کار نکرد بیخیالش شدم"
      ]
    },
    {
      "cell_type": "markdown",
      "metadata": {
        "id": "cmFd8oWy7iUy"
      },
      "source": [
        "# Honest and Liers"
      ]
    },
    {
      "cell_type": "markdown",
      "metadata": {
        "id": "-GTwu6Os7iUz"
      },
      "source": [
        "Suppose there 16 People sit around a circular table.  ٍEach claims that the two people next to him/her are liars. How many liars are there in the crowd? "
      ]
    },
    {
      "cell_type": "code",
      "execution_count": null,
      "metadata": {
        "id": "WYRUG2-I7iUz",
        "outputId": "ef357db1-d0b0-40e1-a8f0-0d4e19a9951f"
      },
      "outputs": [
        {
          "name": "stdout",
          "output_type": "stream",
          "text": [
            "[11, 13, 9, 11, 9, 10, 10, 10, 12, 10, 9, 9, 10, 13, 10, 10, 10, 9, 11, 11, 10, 12, 11, 11, 10, 11, 10, 10, 10, 10, 12, 12, 10, 11, 11, 10, 10, 10, 13, 10, 12, 12, 10, 10, 12, 9, 12, 10, 10, 10, 10, 10, 11, 9, 9, 10, 10, 12, 9, 10, 11, 11, 9, 11, 11, 9, 10, 11, 13, 10, 11, 11, 11, 10, 12, 9, 11, 11, 11, 11, 10, 11, 12, 10, 10, 11, 11, 11, 10, 10, 11, 11, 11, 13, 9, 10, 9, 11, 11, 10]\n"
          ]
        },
        {
          "data": {
            "image/png": "[encoded data removed]",
            "text/plain": [
              "<Figure size 432x288 with 1 Axes>"
            ]
          },
          "metadata": {
            "needs_background": "light"
          },
          "output_type": "display_data"
        }
      ],
      "source": [
        "#code here \n",
        "\n",
        "n=16\n",
        "liars=[]\n",
        "for j in range (100):\n",
        "    asum_of_answ=[]\n",
        "    # ی نمونه رندوم درست میکنیم\n",
        "    for i in range(0,n):\n",
        "        lie=random.randint(0,1)\n",
        "        asum_of_answ.append(lie)\n",
        "    lie=[]\n",
        "    # حلقه ای که نشستن رو درست میکنیم\n",
        "    asum_of_answ.append(asum_of_answ[0])\n",
        "    asum_of_answ.insert(0,asum_of_answ[-1])\n",
        "    #print('secend:',asum_of_answ,len(asum_of_answ))\n",
        "\n",
        "    #اولین و اخرین نفر حلقه رو چک میکنیم درست باشن و دیگه بهشون دست نمیزنیم\n",
        "    if asum_of_answ[1]:\n",
        "            if asum_of_answ[0]!=0 or asum_of_answ[2]!=0:\n",
        "                asum_of_answ[1]=0\n",
        "            elif asum_of_answ[0]==0 and asum_of_answ[2]==0:\n",
        "                asum_of_answ[1]=1\n",
        "    if asum_of_answ[-2]:\n",
        "            if asum_of_answ[-3]!=0 or asum_of_answ[-1]!=0:\n",
        "                asum_of_answ[-2]=0\n",
        "            elif asum_of_answ[-3]==0 and asum_of_answ[-1]==0:\n",
        "                asum_of_answ[-2]=1\n",
        "    \n",
        "    # یک دور میریم روی همه ادما غیر سر و ته حلقه میچرخیم که درستشون کنیم\n",
        "    for i in range(2,len(asum_of_answ)-1):\n",
        "        if asum_of_answ[i]:\n",
        "            if asum_of_answ[i-1]!=0 or asum_of_answ[i+1]!=0:\n",
        "                asum_of_answ[i]=0\n",
        "        elif asum_of_answ[i-1]==0 and asum_of_answ[i+1]==0:\n",
        "            asum_of_answ[i]=1\n",
        "    \n",
        "    # حلقه رو میشکونیم که دوباره 16 نفر رو به ترتیب داشته باشیم\n",
        "    asum_of_answ.pop(0)\n",
        "    asum_of_answ.pop(15)\n",
        "    # دروغ گوها رو میشمریم!\n",
        "    liars.append(asum_of_answ.count(0))\n",
        "    \n",
        "print(liars)\n",
        "plt.hist(liars);"
      ]
    },
    {
      "cell_type": "code",
      "execution_count": null,
      "metadata": {
        "id": "SOZOQBdC7iU1"
      },
      "outputs": [],
      "source": [
        ""
      ]
    }
  ],
  "metadata": {
    "hide_input": false,
    "kernelspec": {
      "display_name": "Python 3",
      "language": "python",
      "name": "python3"
    },
    "language_info": {
      "codemirror_mode": {
        "name": "ipython",
        "version": 3
      },
      "file_extension": ".py",
      "mimetype": "text/x-python",
      "name": "python",
      "nbconvert_exporter": "python",
      "pygments_lexer": "ipython3",
      "version": "3.7.3"
    },
    "toc": {
      "base_numbering": 1,
      "nav_menu": {},
      "number_sections": true,
      "sideBar": true,
      "skip_h1_title": false,
      "title_cell": "Table of Contents",
      "title_sidebar": "Contents",
      "toc_cell": false,
      "toc_position": {
        "height": "calc(100% - 180px)",
        "left": "10px",
        "top": "150px",
        "width": "165px"
      },
      "toc_section_display": true,
      "toc_window_display": true
    },
    "colab": {
      "name": "HW1_answered.ipynb",
      "provenance": [],
      "collapsed_sections": [
        "XeXbAVaN7iUw"
      ]
    }
  },
  "nbformat": 4,
  "nbformat_minor": 0
}